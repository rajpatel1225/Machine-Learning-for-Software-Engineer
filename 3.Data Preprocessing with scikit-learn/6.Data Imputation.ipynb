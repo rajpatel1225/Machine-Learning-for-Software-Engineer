{
 "cells": [
  {
   "cell_type": "markdown",
   "metadata": {},
   "source": [
    "# Data Imputation\n",
    "Learn about data imputation and the various methods to accomplish it."
   ]
  },
  {
   "cell_type": "markdown",
   "metadata": {},
   "source": [
    "## A. Data imputation methods\n",
    "In real life, we often have to deal with data that contains missing values. Sometimes, if the dataset is missing too many values, we just don't use it. However, if only a few of the values are missing, we can perform data imputation to substitute the missing data with some other value(s).\n",
    "\n",
    "There are many different methods for data imputation. In scikit-learn, the SimpleImputer transformer performs four different data imputation methods.\n",
    "\n",
    "The four methods are:\n",
    "Using the mean value\n",
    "Using the median value\n",
    "Using the most frequent value\n",
    "Filling in missing values with a constant\n",
    "The code below shows how to perform data imputation using mean values from each column."
   ]
  },
  {
   "cell_type": "code",
   "execution_count": null,
   "metadata": {},
   "outputs": [],
   "source": [
    "# predefined data\n",
    "print('{}\\n'.format(repr(data)))\n",
    "\n",
    "from sklearn.impute import SimpleImputer\n",
    "imp_mean = SimpleImputer()\n",
    "transformed = imp_mean.fit_transform(data)\n",
    "print('{}\\n'.format(repr(transformed)))"
   ]
  },
  {
   "cell_type": "markdown",
   "metadata": {},
   "source": [
    "In NumPy arrays, missing data is represented by the np.nan value. In the above example, we replaced each missing value with the mean of the values in its column.\n",
    "\n",
    "The default imputation method for SimpleImputer is using the column means. By using the strategy keyword argument when initializing a SimpleImputer object, we can specify a different imputation method.\n",
    "\n",
    "The code below demonstrates various initialization strategies for SimpleImputer."
   ]
  },
  {
   "cell_type": "code",
   "execution_count": null,
   "metadata": {},
   "outputs": [],
   "source": [
    "# predefined data\n",
    "print('{}\\n'.format(repr(data)))\n",
    "\n",
    "from sklearn.impute import SimpleImputer\n",
    "imp_median = SimpleImputer(strategy='median')\n",
    "transformed = imp_median.fit_transform(data)\n",
    "print('{}\\n'.format(repr(transformed)))\n",
    "\n",
    "imp_frequent = SimpleImputer(strategy='most_frequent')\n",
    "transformed = imp_frequent.fit_transform(data)\n",
    "print('{}\\n'.format(repr(transformed)))"
   ]
  },
  {
   "cell_type": "markdown",
   "metadata": {},
   "source": [
    "The 'median' strategy fills in missing data with the median from each column, while the 'most_frequent' strategy uses the value that appears the most for each column.\n",
    "\n",
    "The final imputation method that SimpleImputer provides is to fill in missing values with a specified constant. This can be useful if there is already a suitable substitute for missing data (e.g. 0 or -1).\n",
    "\n",
    "The code below demonstrates how to fill in missing data with a specific constant. The fill_value keyword argument is used when initializing the SimpleImputer object, to specify the constant."
   ]
  },
  {
   "cell_type": "code",
   "execution_count": null,
   "metadata": {},
   "outputs": [],
   "source": [
    "# predefined data\n",
    "print('{}\\n'.format(repr(data)))\n",
    "\n",
    "from sklearn.impute import SimpleImputer\n",
    "imp_constant = SimpleImputer(strategy='constant',\n",
    "                             fill_value=-1)\n",
    "transformed = imp_constant.fit_transform(data)\n",
    "print('{}\\n'.format(repr(transformed)))"
   ]
  },
  {
   "cell_type": "markdown",
   "metadata": {},
   "source": [
    "## B. Other imputation methods\n",
    "The SimpleImputer object only implements the four imputation methods shown in section A. However, data imputation is not limited to those four methods.\n",
    "\n",
    "There are also more advanced imputation methods such as k-Nearest Neighbors (filling in missing values based on similarity scores from the kNN algorithm) and MICE (applying multiple chained imputations, assuming the missing values are randomly distributed across observations).\n",
    "\n",
    "In most industry cases these advanced methods are not required, since the data is either perfectly cleaned or the missing values are scarce. Nevertheless, the advanced methods could be useful when dealing with open source datasets, since these tend to be more incomplete."
   ]
  }
 ],
 "metadata": {
  "kernelspec": {
   "display_name": "Python 3",
   "language": "python",
   "name": "python3"
  },
  "language_info": {
   "codemirror_mode": {
    "name": "ipython",
    "version": 3
   },
   "file_extension": ".py",
   "mimetype": "text/x-python",
   "name": "python",
   "nbconvert_exporter": "python",
   "pygments_lexer": "ipython3",
   "version": "3.7.4"
  }
 },
 "nbformat": 4,
 "nbformat_minor": 2
}
