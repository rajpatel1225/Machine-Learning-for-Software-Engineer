{
 "cells": [
  {
   "cell_type": "markdown",
   "metadata": {},
   "source": [
    "# Metrics\n",
    "Use pandas to obtain statistical metrics for data."
   ]
  },
  {
   "cell_type": "markdown",
   "metadata": {},
   "source": [
    "## A. Numeric metrics\n",
    "When working with numeric features, we usually want to calculate metrics such as mean, standard deviation, etc. These metrics give us more insight into the type of data we're working with, which benefits our overall analysis of the dataset.\n",
    "\n",
    "Rather than calculating several different metrics separately, pandas provides the describe function to obtain a summary of a DataFrame's numeric data.\n",
    "\n",
    "The metrics included in the output summary of describe are"
   ]
  },
  {
   "cell_type": "markdown",
   "metadata": {},
   "source": [
    "Metric     Description\n",
    "\n",
    "count\t   The number of rows in the DataFrame\n",
    "mean\t   The mean value for a feature\n",
    "std\t       The standard deviation for a feature\n",
    "min\t       The minimum value in a feature\n",
    "25%\t       The 25th percentile of a feature\n",
    "50%\t       The 50th percentile of a feature. Note that this is identical to the median\n",
    "75%\t       The 75th percentile of a feature\n",
    "max\t       The maximum value in a feature"
   ]
  },
  {
   "cell_type": "markdown",
   "metadata": {},
   "source": [
    "The code below shows how to use the describe function."
   ]
  },
  {
   "cell_type": "code",
   "execution_count": null,
   "metadata": {},
   "outputs": [],
   "source": [
    "# df is predefined\n",
    "print('{}\\n'.format(df))\n",
    "\n",
    "metrics1 = df.describe()\n",
    "print('{}\\n'.format(metrics1))\n",
    "\n",
    "hr_rbi = df[['HR','RBI']]\n",
    "metrics2 = hr_rbi.describe()\n",
    "print('{}\\n'.format(metrics2))"
   ]
  },
  {
   "cell_type": "markdown",
   "metadata": {},
   "source": [
    "Using describe with a DataFrame will return a summary of metrics for each of the DataFrame's numeric features. In our example, df had three features with numerical values: yearID, HR, and RBI.\n",
    "\n",
    "Since we normally treat yearID as a categorical feature, the second time we used describe was with the hr_rbi DataFrame, which only included the HR and RBI features.\n",
    "\n",
    "To have describe return specific percentiles, we can use the percentiles keyword argument. The percentiles argument takes in a list of decimal percentages, representing the percentiles we want returned in the summary"
   ]
  },
  {
   "cell_type": "code",
   "execution_count": null,
   "metadata": {},
   "outputs": [],
   "source": [
    "metrics1 = hr_rbi.describe(percentiles=[.5])\n",
    "print('{}\\n'.format(metrics1))\n",
    "\n",
    "metrics2 = hr_rbi.describe(percentiles=[.1])\n",
    "print('{}\\n'.format(metrics2))\n",
    "\n",
    "metrics3 = hr_rbi.describe(percentiles=[.2,.8])\n",
    "print('{}\\n'.format(metrics3))"
   ]
  },
  {
   "cell_type": "markdown",
   "metadata": {},
   "source": [
    "Note that the 50th percentile, i.e. the median, is always returned. The values specified in the percentiles list will replace the default 25th and 75th percentiles."
   ]
  },
  {
   "cell_type": "markdown",
   "metadata": {},
   "source": [
    "## B. Categorical features\n",
    "With categorical features, we don't calculate metrics like mean, standard deviation, etc. Instead, we use frequency counts to describe a categorical feature.\n",
    "\n",
    "The frequency count for a specific category of a feature refers to how many times that category appears in the dataset. In pandas, we use the value_counts function to obtain the frequency counts for each category in a column feature.\n",
    "\n",
    "The code below uses the value_counts function to get frequency counts of the 'playerID' feature."
   ]
  },
  {
   "cell_type": "code",
   "execution_count": null,
   "metadata": {},
   "outputs": [],
   "source": [
    "p_ids = df['playerID']\n",
    "print('{}\\n'.format(p_ids.value_counts()))\n",
    "\n",
    "print('{}\\n'.format(p_ids.value_counts(normalize=True)))\n",
    "\n",
    "print('{}\\n'.format(p_ids.value_counts(ascending=True)))"
   ]
  },
  {
   "cell_type": "markdown",
   "metadata": {},
   "source": [
    "Using value_counts without any keyword arguments will return the frequency counts for each category, sorted in descending order.\n",
    "\n",
    "Setting normalize=True returns the frequency proportions, rather than counts, for each category (note that the sum of all the proportions is 1). We can also set ascending=True to get the frequencies sorted in ascending order.\n",
    "\n",
    "If we just want the names of each unique category in a column, rather than the frequencies, we use the unique function."
   ]
  },
  {
   "cell_type": "code",
   "execution_count": null,
   "metadata": {},
   "outputs": [],
   "source": [
    "unique_players = df['playerID'].unique()\n",
    "print('{}\\n'.format(repr(unique_players)))\n",
    "\n",
    "unique_teams = df['teamID'].unique()\n",
    "print('{}\\n'.format(repr(unique_teams)))"
   ]
  },
  {
   "cell_type": "markdown",
   "metadata": {},
   "source": [
    "So far we've focused on categorical features with string values. However, categorical features can also have integer values. For example, we can use yearID as a categorical feature with each unique year as a separate category."
   ]
  },
  {
   "cell_type": "code",
   "execution_count": null,
   "metadata": {},
   "outputs": [],
   "source": [
    "y_ids = df['yearID']\n",
    "print('{}\\n'.format(y_ids))\n",
    "\n",
    "print('{}\\n'.format(repr(y_ids.unique())))\n",
    "print('{}\\n'.format(y_ids.value_counts()))"
   ]
  }
 ],
 "metadata": {
  "kernelspec": {
   "display_name": "Python 3",
   "language": "python",
   "name": "python3"
  },
  "language_info": {
   "codemirror_mode": {
    "name": "ipython",
    "version": 3
   },
   "file_extension": ".py",
   "mimetype": "text/x-python",
   "name": "python",
   "nbconvert_exporter": "python",
   "pygments_lexer": "ipython3",
   "version": "3.7.4"
  }
 },
 "nbformat": 4,
 "nbformat_minor": 2
}
