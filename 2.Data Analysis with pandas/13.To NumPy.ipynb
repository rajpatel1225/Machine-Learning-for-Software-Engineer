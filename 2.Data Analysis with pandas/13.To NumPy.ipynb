{
 "cells": [
  {
   "cell_type": "markdown",
   "metadata": {},
   "source": [
    "# To NumPy\n",
    "Understand how DataFrames can be converted to 2-D NumPy arrays."
   ]
  },
  {
   "cell_type": "markdown",
   "metadata": {},
   "source": [
    "## A. Machine learning\n",
    "The DataFrame object is great for storing a dataset and performing data analysis in Python. However, most machine learning frameworks (e.g. TensorFlow), work directly with NumPy data. Furthermore, the NumPy data used as input to machine learning models must solely contain quantitative values.\n",
    "\n",
    "Therefore, to use a DataFrame's data with a machine learning model, we need to convert the DataFrame to a NumPy matrix of quantitative data. So even the categorical features of a DataFrame, such as gender and birthplace, must be converted to quantitative values."
   ]
  },
  {
   "cell_type": "markdown",
   "metadata": {},
   "source": [
    "## B. Indicator features\n",
    "When converting a DataFrame to a NumPy matrix of quantitative data, we need to find a way to modify the categorical features in the DataFrame.\n",
    "\n",
    "The easiest way to do this is to convert each categorical feature into a set of indicator features for each of its categories. The indicator feature for a specific category represents whether or not a given data sample belongs to that category.\n",
    "\n",
    "The code below shows a DataFrame with indicator features."
   ]
  },
  {
   "cell_type": "code",
   "execution_count": null,
   "metadata": {},
   "outputs": [],
   "source": [
    "# predefined non-indicator DataFrame\n",
    "print('{}\\n'.format(df))\n",
    "\n",
    "# predefined indicator Dataframe\n",
    "print('{}\\n'.format(indicator_df))"
   ]
  },
  {
   "cell_type": "markdown",
   "metadata": {},
   "source": [
    "In the code above, the DataFrame df has a single categorical feature called Color. The corresponding indicator features for Color are shown in indicator_df.\n",
    "\n",
    "Note that an indicator feature contains 1 when the row has that particular category, and 0 if the row does not."
   ]
  },
  {
   "cell_type": "markdown",
   "metadata": {},
   "source": [
    "## C. Converting to indicators\n",
    "In pandas, we convert each categorical feature of a DataFrame to indicator features with the get_dummies function. The function takes in a DataFrame as its required argument, and returns the DataFrame with each of its categorical features converted to indicator features.\n",
    "\n",
    "The code below demonstrates how to use the get_dummies function."
   ]
  },
  {
   "cell_type": "code",
   "execution_count": null,
   "metadata": {},
   "outputs": [],
   "source": [
    "# predefined df\n",
    "print('{}\\n'.format(df))\n",
    "\n",
    "converted = pd.get_dummies(df)\n",
    "print('{}\\n'.format(converted.columns))\n",
    "\n",
    "print('{}\\n'.format(converted[['teamID_BOS',\n",
    "                               'teamID_PIT']]))\n",
    "print('{}\\n'.format(converted[['lgID_AL',\n",
    "                               'lgID_NL']]))"
   ]
  },
  {
   "cell_type": "markdown",
   "metadata": {},
   "source": [
    "Note that the indicator features have the original categorical feature's label as a prefix. This makes it easy to see where each indicator feature originally came from."
   ]
  },
  {
   "cell_type": "markdown",
   "metadata": {},
   "source": [
    "## D. Converting to NumPy\n",
    "After converting all the categorical features to indicator features, the DataFrame should have all quantitative data. We can then convert to a NumPy matrix using the values function.\n",
    "\n",
    "The code below converts a DataFrame, df into a NumPy matrix."
   ]
  },
  {
   "cell_type": "code",
   "execution_count": null,
   "metadata": {},
   "outputs": [],
   "source": [
    "# predefined indicator df\n",
    "print('{}\\n'.format(df))\n",
    "\n",
    "n_matrix = df.values\n",
    "print(repr(n_matrix))"
   ]
  },
  {
   "cell_type": "markdown",
   "metadata": {},
   "source": [
    "The rows and columns of the output matrix correspond to the rows and columns of the same position in the DataFrame. In the code above, the first column of the NumPy matrix represents HR, the second column represents teamID_BOS, and the third column represents teamID_PIT."
   ]
  }
 ],
 "metadata": {
  "kernelspec": {
   "display_name": "Python 3",
   "language": "python",
   "name": "python3"
  },
  "language_info": {
   "codemirror_mode": {
    "name": "ipython",
    "version": 3
   },
   "file_extension": ".py",
   "mimetype": "text/x-python",
   "name": "python",
   "nbconvert_exporter": "python",
   "pygments_lexer": "ipython3",
   "version": "3.7.4"
  }
 },
 "nbformat": 4,
 "nbformat_minor": 2
}
