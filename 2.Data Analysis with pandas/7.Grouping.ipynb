{
 "cells": [
  {
   "cell_type": "markdown",
   "metadata": {},
   "source": [
    "# Grouping\n",
    "Learn how DataFrames can be grouped based on particular columns."
   ]
  },
  {
   "cell_type": "markdown",
   "metadata": {},
   "source": [
    "## A. Grouping by column\n",
    "\n",
    "When dealing with large amounts of data, it is usually a good idea to group the data by common categories. For example, we could group a large dataset of MLB player statistics by year, so we can deal with each year's data separately.\n",
    "\n",
    "With pandas DataFrames, we can perform dataset grouping with the groupby function. A common usage of the function is to group a DataFrame by values from a particular column, e.g. a column representing years.\n",
    "\n",
    "The code below shows how to use the groupby function, with the example of grouping MLB data by year."
   ]
  },
  {
   "cell_type": "code",
   "execution_count": null,
   "metadata": {},
   "outputs": [],
   "source": [
    "# Predefined df of MLB stats\n",
    "print('{}\\n'.format(df))\n",
    "\n",
    "groups = df.groupby('yearID')\n",
    "for name, group in groups:\n",
    "  print('Year: {}'.format(name))\n",
    "  print('{}\\n'.format(group))\n",
    "  \n",
    "print('{}\\n'.format(groups.get_group(2016)))\n",
    "print('{}\\n'.format(groups.sum()))\n",
    "print('{}\\n'.format(groups.mean()))"
   ]
  },
  {
   "cell_type": "markdown",
   "metadata": {},
   "source": [
    "The grouping code example produced three DataFrames for the years 2015, 2016, and 2017. The three DataFrame groups are contained in the groups variable, and we used its sum and mean functions to retrieve the total and average per-year statistics.\n",
    "\n",
    "In addition to aggregation functions like sum and mean, we can also filter the groups using filter. The filter function takes in another function as its required argument, which specifies how we want to filter the groups. The output of filter is the concatenation of all the groups that pass the filter.\n",
    "\n",
    "The code below shows how to use the filter function."
   ]
  },
  {
   "cell_type": "code",
   "execution_count": null,
   "metadata": {},
   "outputs": [],
   "source": [
    "no2015 = groups.filter(lambda x: x.name > 2015)\n",
    "print(no2015)"
   ]
  },
  {
   "cell_type": "markdown",
   "metadata": {},
   "source": [
    "In the above code example, the lambda function passed into filter returns True if the group (represented as x) represents a year greater than 2015. The output is the concatenation of the 2016 and 2017 groups."
   ]
  },
  {
   "cell_type": "markdown",
   "metadata": {},
   "source": [
    "## B. Multiple columns\n",
    "DataFrame grouping is not just limited to a single column. Rather than passing a single column label into groupby, we can use a list of column labels to specify grouping by multiple columns.\n",
    "\n",
    "Grouping by multiple columns can be useful when multiple data features have many different values. For example, if our dataset consisted of MLB players, grouping by both team and year would give us an organized way to view a team's roster throughout the years."
   ]
  },
  {
   "cell_type": "code",
   "execution_count": null,
   "metadata": {},
   "outputs": [],
   "source": [
    "# player_df is predefined\n",
    "groups = player_df.groupby(['yearID', 'teamID'])\n",
    "\n",
    "for name, group in groups:\n",
    "  print('Year, Team: {}'.format(name))\n",
    "  print('{}\\n'.format(group))\n",
    "\n",
    "print(groups.sum())"
   ]
  },
  {
   "cell_type": "markdown",
   "metadata": {},
   "source": [
    "In the code above, we grouped the MLB data by both year and team, resulting in each group's name being a tuple of year and team. Using the sum function, we obtained the annual total hits for each team."
   ]
  }
 ],
 "metadata": {
  "kernelspec": {
   "display_name": "Python 3",
   "language": "python",
   "name": "python3"
  },
  "language_info": {
   "codemirror_mode": {
    "name": "ipython",
    "version": 3
   },
   "file_extension": ".py",
   "mimetype": "text/x-python",
   "name": "python",
   "nbconvert_exporter": "python",
   "pygments_lexer": "ipython3",
   "version": "3.7.4"
  }
 },
 "nbformat": 4,
 "nbformat_minor": 2
}
