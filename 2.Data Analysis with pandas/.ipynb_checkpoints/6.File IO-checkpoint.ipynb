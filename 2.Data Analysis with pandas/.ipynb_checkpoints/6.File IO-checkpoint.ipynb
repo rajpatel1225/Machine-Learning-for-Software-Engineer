{
 "cells": [
  {
   "cell_type": "markdown",
   "metadata": {},
   "source": [
    "# File I/O\n",
    "Read from and write to different types of files in pandas."
   ]
  },
  {
   "cell_type": "markdown",
   "metadata": {},
   "source": [
    "## A. Reading data\n",
    "One of the most important features in pandas is the ability to read from data files. pandas accepts a variety of file formats, ranging from CSV and Excel spreadsheets to SQL and even HTML. A full list of the available file formats for pandas can be found https://pandas.pydata.org/pandas-docs/stable/user_guide/io.html.\n",
    "\n",
    "In this chapter we'll focus on three of the most common file types: CSV, XLSX (Microsoft Excel), and JSON. For reading data from a file, we use either the read_csv, read_excel, or read_json function, depending on the file type.\n",
    "\n",
    "Each of the file reading functions takes in a file path as the only required argument. Each function has numerous keyword arguments, so we won't get into most of them. However, we'll still discuss a couple of the more commonly used keyword arguments."
   ]
  },
  {
   "cell_type": "markdown",
   "metadata": {},
   "source": [
    "### CSV\n",
    "A CSV file is pretty straightforward; it's just comma-separated column names and values. When we don't use any keyword arguments, pd.read_csv returns a DataFrame with integer indexes as row labels, and each comma-separated column name as the column labels.\n",
    "\n",
    "However, when we set the index_col keyword argument, we specify which column we want to use as the row labels. In our example, we used the first and second column as row labels.\n",
    "\n",
    "The code below shows how to use pd.read_csv."
   ]
  },
  {
   "cell_type": "code",
   "execution_count": null,
   "metadata": {},
   "outputs": [],
   "source": [
    "import pandas as pd\n",
    "# data.csv contains baseball data\n",
    "df = pd.read_csv('data.csv') \n",
    "# Newline to separate print statements\n",
    "print('{}\\n'.format(df))\n",
    "\n",
    "df = pd.read_csv('data.csv', index_col=0)\n",
    "print('{}\\n'.format(df))\n",
    "\n",
    "df = pd.read_csv('data.csv', index_col=1)\n",
    "print('{}\\n'.format(df))"
   ]
  },
  {
   "cell_type": "markdown",
   "metadata": {},
   "source": [
    "### Excel\n",
    "An Excel spreadsheet is similar to a CSV in its usage of rows and columns. However, the file path for pd.read_excel normally specifies an Excel workbook, which can contain multiple spreadsheets.\n",
    "\n",
    "When we don't use any keyword arguments, the returned DataFrame from pd.read_excel contains the first sheet of the Excel workbook. However, when we set the sheet_name keyword argument, we can obtain a specific spreadsheet by passing in its integer index or name.\n",
    "\n",
    "Furthermore, we obtain an ordered dictionary of spreadsheets by passing in a list of integers or sheet names. Setting sheet_name=None returns all the sheets in an ordered dictionary.\n",
    "\n",
    "Like pd.read_csv, we can also specify the index_col argument in pd.read_excel.\n",
    "\n",
    "The code below shows how to use pd.read_excel."
   ]
  },
  {
   "cell_type": "code",
   "execution_count": null,
   "metadata": {},
   "outputs": [],
   "source": [
    "# data.csv contains baseball data\n",
    "df = pd.read_excel('data.xlsx')\n",
    "# Newline to separate print statements\n",
    "print('{}\\n'.format(df))\n",
    "\n",
    "print('Sheet 1 (0-indexed) DataFrame:')\n",
    "df = pd.read_excel('data.xlsx', sheet_name=1)\n",
    "print('{}\\n'.format(df))\n",
    "\n",
    "print('MIL DataFrame:')\n",
    "df = pd.read_excel('data.xlsx', sheet_name='MIL')\n",
    "print('{}\\n'.format(df))\n",
    "\n",
    "# Sheets 0 and 1\n",
    "df_dict = pd.read_excel('data.xlsx', sheet_name=[0, 1])\n",
    "print('{}\\n'.format(df_dict[1]))\n",
    "\n",
    "# All Sheets\n",
    "df_dict = pd.read_excel('data.xlsx', sheet_name=None)\n",
    "print(df_dict.keys())"
   ]
  },
  {
   "cell_type": "markdown",
   "metadata": {},
   "source": [
    "### JSON\n",
    "JSON data is pretty similar to a Python dictionary. In fact, you can use the json module (part of the Python standard library) to convert between dictionaries and JSON data. The file path for pd.read_json specifies a file containing JSON data.\n",
    "\n",
    "When we don't use any keyword arguments, pd.read_json treats each outer key of the JSON data as a column label and each inner key as a row label. In the code example below, you can see df1 treats the player's names as column labels.\n",
    "\n",
    "However, when we set orient='index', the outer keys are treated as row labels and the inner keys are treated as column labels."
   ]
  },
  {
   "cell_type": "code",
   "execution_count": null,
   "metadata": {},
   "outputs": [],
   "source": [
    "# data is the JSON data (as a Python dict)\n",
    "print('{}\\n'.format(data))\n",
    "\n",
    "df1 = pd.read_json('data.json')\n",
    "print('{}\\n'.format(df1))\n",
    "\n",
    "df2 = pd.read_json('data.json', orient='index')\n",
    "print('{}\\n'.format(df2))"
   ]
  },
  {
   "cell_type": "markdown",
   "metadata": {},
   "source": [
    "## B. Writing to files\n",
    "We can also use pandas to write data to a file. Focusing again on CSV, Excel, and JSON, the functions we use to write to files are to_csv, to_excel, and to_json.\n",
    "\n",
    "Similar to the file reading functions, each of the writing functions has dozens of keyword arguments. Therefore, we'll only go over a few of the commonly used ones."
   ]
  },
  {
   "cell_type": "markdown",
   "metadata": {},
   "source": [
    "### CSV\n",
    "Note that when we don't use any keyword arguments, to_csv will write the row labels as the first column in the CSV file. This is fine if the row labels are meaningful, but if they are just integers we don't really want them in the CSV file. In that case, we set index=False, to specify that we don't write the row labels into the CSV file.\n",
    "\n",
    "The code below shows how to use to_csv."
   ]
  },
  {
   "cell_type": "code",
   "execution_count": null,
   "metadata": {},
   "outputs": [],
   "source": [
    "# Predefined mlb_df\n",
    "print('{}\\n'.format(mlb_df))\n",
    "\n",
    "# Index is kept when writing\n",
    "mlb_df.to_csv('data.csv')\n",
    "df = pd.read_csv('data.csv')\n",
    "print('{}\\n'.format(df))\n",
    "\n",
    "# Index is not kept when writing\n",
    "mlb_df.to_csv('data.csv', index=False)\n",
    "df = pd.read_csv('data.csv')\n",
    "print('{}\\n'.format(df))"
   ]
  },
  {
   "cell_type": "markdown",
   "metadata": {},
   "source": [
    "### Excel\n",
    "The basic to_excel function will only write a single DataFrame to a spreadsheet. However, if we want to write multiple spreadsheets in an Excel workbook, we first load the Excel file into a pd.ExcelWriter then use the ExcelWriter as the first argument to to_excel.\n",
    "\n",
    "When we don't specify the sheet_name keyword argument, the Excel spreadsheet we write to is named 'Sheet1'. We can pass in custom names into sheet_name to avoid constantly writing to 'Sheet1'."
   ]
  },
  {
   "cell_type": "code",
   "execution_count": null,
   "metadata": {},
   "outputs": [],
   "source": [
    "# Predefined DataFrames\n",
    "print('{}\\n'.format(mlb_df1))\n",
    "print('{}\\n'.format(mlb_df2))\n",
    "\n",
    "with pd.ExcelWriter('data.xlsx') as writer:\n",
    "  mlb_df1.to_excel(writer, index=False, sheet_name='NYY')\n",
    "  mlb_df2.to_excel(writer, index=False, sheet_name='BOS')\n",
    "  \n",
    "df_dict = pd.read_excel('data.xlsx', sheet_name=None)\n",
    "print(df_dict.keys())\n",
    "print('{}\\n'.format(df_dict['BOS']))"
   ]
  },
  {
   "cell_type": "markdown",
   "metadata": {},
   "source": [
    "### JSON\n",
    "The to_json function also uses the orient keyword argument that was part of pd.read_json. Like in pd.read_json, setting orient='index' will set the outer keys of the JSON data to the row labels and the inner keys to the column labels.\n",
    "\n",
    "The code below shows how to use to_json."
   ]
  },
  {
   "cell_type": "code",
   "execution_count": null,
   "metadata": {},
   "outputs": [],
   "source": [
    "# Predefined df\n",
    "print('{}\\n'.format(df))\n",
    "\n",
    "df.to_json('data.json')\n",
    "df2 = pd.read_json('data.json')\n",
    "print('{}\\n'.format(df2))\n",
    "\n",
    "df.to_json('data.json', orient='index')\n",
    "df2 = pd.read_json('data.json')\n",
    "print('{}\\n'.format(df2))\n",
    "df2 = pd.read_json('data.json', orient='index')\n",
    "print('{}\\n'.format(df2))"
   ]
  }
 ],
 "metadata": {
  "kernelspec": {
   "display_name": "Python 3",
   "language": "python",
   "name": "python3"
  },
  "language_info": {
   "codemirror_mode": {
    "name": "ipython",
    "version": 3
   },
   "file_extension": ".py",
   "mimetype": "text/x-python",
   "name": "python",
   "nbconvert_exporter": "python",
   "pygments_lexer": "ipython3",
   "version": "3.7.4"
  }
 },
 "nbformat": 4,
 "nbformat_minor": 2
}
