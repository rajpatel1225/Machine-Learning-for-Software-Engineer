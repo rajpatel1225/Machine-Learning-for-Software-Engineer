{
 "cells": [
  {
   "cell_type": "markdown",
   "metadata": {},
   "source": [
    "# DataFrame\n",
    "Learn about the pandas DataFrame object for 2-D data."
   ]
  },
  {
   "cell_type": "markdown",
   "metadata": {},
   "source": [
    "## A. 2-D data\n",
    "One of the main purposes of pandas is to deal with tabular data, i.e. data that comes from tables or spreadsheets. Since tabular data contains rows and columns, it is 2-D. For working with 2-D data, we use the pandas.DataFrame object, which we'll refer to simply as a DataFrame.\n",
    "\n",
    "A DataFrame is created through the pd.DataFrame constructor, which takes in essentially the same arguments as pd.Series. However, while a Series could be constructed from a scalar (representing a single value Series), a DataFrame cannot.\n",
    "\n",
    "Furthermore, pd.DataFrame takes in an additional columns keyword argument, which represents the labels for the columns (similar to how index represents the row labels).\n",
    "\n",
    "The code below shows how to use the pd.DataFrame constructor."
   ]
  },
  {
   "cell_type": "code",
   "execution_count": 1,
   "metadata": {},
   "outputs": [
    {
     "name": "stdout",
     "output_type": "stream",
     "text": [
      "Empty DataFrame\n",
      "Columns: []\n",
      "Index: []\n",
      "\n",
      "   0\n",
      "0  5\n",
      "1  6\n",
      "\n",
      "   0  1\n",
      "0  5  6\n",
      "\n",
      "    c1  c2\n",
      "r1   5   6\n",
      "r2   1   3\n",
      "\n",
      "    c1  c2\n",
      "r1   1   3\n",
      "r2   2   4\n",
      "\n"
     ]
    }
   ],
   "source": [
    "import numpy as np\n",
    "import pandas as pd\n",
    "\n",
    "df = pd.DataFrame()\n",
    "# Newline added to separate DataFrames\n",
    "print('{}\\n'.format(df))\n",
    "\n",
    "df = pd.DataFrame([5, 6])\n",
    "print('{}\\n'.format(df))\n",
    "\n",
    "df = pd.DataFrame([[5,6]])\n",
    "print('{}\\n'.format(df))\n",
    "\n",
    "df = pd.DataFrame([[5, 6], [1, 3]],\n",
    "                  index=['r1', 'r2'],\n",
    "                  columns=['c1', 'c2'])\n",
    "print('{}\\n'.format(df))\n",
    "\n",
    "df = pd.DataFrame({'c1': [1, 2], 'c2': [3, 4]},\n",
    "                  index=['r1', 'r2'])\n",
    "print('{}\\n'.format(df))"
   ]
  },
  {
   "cell_type": "markdown",
   "metadata": {},
   "source": [
    "Note that when we use a Python dictionary for initialization, the DataFrame takes the dictionary's keys as its column labels."
   ]
  },
  {
   "cell_type": "markdown",
   "metadata": {},
   "source": [
    "## B. Upcasting\n",
    "When we initialize a DataFrame of mixed types, upcasting occurs on a per-column basis. The dtypes property returns the types in each column as a Series of types.\n",
    "\n",
    "The code below shows how upcasting works in DataFrames. You'll notice that upcasting only occurs in the first column for the DataFrame below, because the second column's values are both integers."
   ]
  },
  {
   "cell_type": "code",
   "execution_count": 2,
   "metadata": {},
   "outputs": [
    {
     "name": "stdout",
     "output_type": "stream",
     "text": [
      "     0  1\n",
      "0  5.0  6\n",
      "1  1.2  3\n",
      "\n",
      "0    float64\n",
      "1      int64\n",
      "dtype: object\n"
     ]
    }
   ],
   "source": [
    "upcast = pd.DataFrame([[5, 6], [1.2, 3]])\n",
    "print('{}\\n'.format(upcast))\n",
    "# Datatypes of each column\n",
    "print(upcast.dtypes)"
   ]
  },
  {
   "cell_type": "markdown",
   "metadata": {},
   "source": [
    "## C. Appending rows\n",
    "We can append additional rows to a given DataFrame through the append function. The required argument for the function is either a Series or DataFrame, representing the row(s) we append.\n",
    "\n",
    "Note that the append function returns the modified DataFrame but doesn't actually change the original. Furthermore, when we append a Series to the DataFrame, we either need to specify the name for the series or use the ignore_index keyword argument. Setting ignore_index=True will change the row labels to integer indexes.\n",
    "\n",
    "The code below shows example usages of the append function."
   ]
  },
  {
   "cell_type": "code",
   "execution_count": 3,
   "metadata": {},
   "outputs": [
    {
     "name": "stdout",
     "output_type": "stream",
     "text": [
      "      0  1\n",
      "0   5.0  6\n",
      "1   1.2  3\n",
      "r3  0.0  0\n",
      "\n",
      "     0  1\n",
      "0  5.0  6\n",
      "1  1.2  3\n",
      "2  0.0  0\n",
      "\n",
      "     0  1\n",
      "0  5.0  6\n",
      "1  1.2  3\n",
      "0  0.0  0\n",
      "1  9.0  9\n",
      "\n"
     ]
    }
   ],
   "source": [
    "df = pd.DataFrame([[5, 6], [1.2, 3]])\n",
    "ser = pd.Series([0, 0], name='r3')\n",
    "\n",
    "df_app = df.append(ser)\n",
    "print('{}\\n'.format(df_app))\n",
    "\n",
    "df_app = df.append(ser, ignore_index=True)\n",
    "print('{}\\n'.format(df_app))\n",
    "\n",
    "df2 = pd.DataFrame([[0,0],[9,9]])\n",
    "df_app = df.append(df2)\n",
    "print('{}\\n'.format(df_app))\n"
   ]
  },
  {
   "cell_type": "markdown",
   "metadata": {},
   "source": [
    "## D. Dropping data\n",
    "We can drop rows or columns from a given DataFrame through the drop function. There is no required argument, but the keyword arguments of the function gives us two ways to drop rows/columns from a DataFrame.\n",
    "\n",
    "The first way is using the labels keyword argument to specify the labels of the rows/columns we want to drop. We use this alongside the axis keyword argument (which has default value of 0) to drop from the rows or columns axis.\n",
    "\n",
    "The second method is to directly use the index or columns keyword arguments to specify the labels of the rows or columns directly, without needing to use axis.\n",
    "\n",
    "The code below shows examples on how to use the drop function."
   ]
  },
  {
   "cell_type": "code",
   "execution_count": 4,
   "metadata": {},
   "outputs": [
    {
     "name": "stdout",
     "output_type": "stream",
     "text": [
      "    c1  c2  c3\n",
      "r2   2   4   6\n",
      "\n",
      "    c2\n",
      "r1   3\n",
      "r2   4\n",
      "\n",
      "    c1  c2  c3\n",
      "r1   1   3   5\n",
      "\n",
      "    c1  c3\n",
      "r1   1   5\n",
      "r2   2   6\n",
      "\n",
      "    c1  c3\n",
      "r1   1   5\n",
      "r2   2   6\n",
      "\n"
     ]
    }
   ],
   "source": [
    "df = pd.DataFrame({'c1': [1, 2], 'c2': [3, 4],\n",
    "                   'c3': [5, 6]},\n",
    "                  index=['r1', 'r2'])\n",
    "# Drop row r1\n",
    "df_drop = df.drop(labels='r1')\n",
    "print('{}\\n'.format(df_drop))\n",
    "\n",
    "# Drop columns c1, c3\n",
    "df_drop = df.drop(labels=['c1', 'c3'], axis=1)\n",
    "print('{}\\n'.format(df_drop))\n",
    "\n",
    "df_drop = df.drop(index='r2')\n",
    "print('{}\\n'.format(df_drop))\n",
    "\n",
    "df_drop = df.drop(columns='c2')\n",
    "print('{}\\n'.format(df_drop))\n",
    "\n",
    "df.drop(index='r2', columns='c2')\n",
    "print('{}\\n'.format(df_drop))"
   ]
  },
  {
   "cell_type": "markdown",
   "metadata": {},
   "source": [
    "Similar to append, the drop function returns the modified DataFrame but doesn't actually change the original.\n",
    "\n",
    "Note that when using labels and axis, we can't drop both rows and columns from the DataFrame."
   ]
  }
 ],
 "metadata": {
  "kernelspec": {
   "display_name": "Python 3",
   "language": "python",
   "name": "python3"
  },
  "language_info": {
   "codemirror_mode": {
    "name": "ipython",
    "version": 3
   },
   "file_extension": ".py",
   "mimetype": "text/x-python",
   "name": "python",
   "nbconvert_exporter": "python",
   "pygments_lexer": "ipython3",
   "version": "3.7.4"
  }
 },
 "nbformat": 4,
 "nbformat_minor": 2
}
