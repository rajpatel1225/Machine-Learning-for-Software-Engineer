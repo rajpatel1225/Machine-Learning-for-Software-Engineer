{
 "cells": [
  {
   "cell_type": "markdown",
   "metadata": {},
   "source": [
    "# Filtering\n",
    "Filter DataFrames for values that fit certain conditions."
   ]
  },
  {
   "cell_type": "markdown",
   "metadata": {},
   "source": [
    "## A. Filter conditions\n",
    "In the Data Manipulation section, we used relation operations on NumPy arrays to create filter conditions. These filter conditions returned boolean arrays, which represented the locations of the elements that pass the filter.\n",
    "\n",
    "In pandas, we can also create filter conditions for DataFrames. Specifically, we can use relation operations on a DataFrame's column features, which will return a boolean Series representing the DataFrame rows that pass the filter.\n",
    "\n",
    "The code below demonstrates how to use relation operations as filter conditions."
   ]
  },
  {
   "cell_type": "code",
   "execution_count": null,
   "metadata": {},
   "outputs": [],
   "source": [
    "df = pd.DataFrame({\n",
    "  'playerID': ['bettsmo01', 'canoro01', 'cruzne02', 'ortizda01', 'cruzne02'],\n",
    "  'yearID': [2016, 2016, 2016, 2016, 2017],\n",
    "  'teamID': ['BOS', 'SEA', 'SEA', 'BOS', 'SEA'],\n",
    "  'HR': [31, 39, 43, 38, 39]})\n",
    "  \n",
    "print('{}\\n'.format(df))\n",
    "\n",
    "cruzne02 = df['playerID'] == 'cruzne02'\n",
    "print('{}\\n'.format(cruzne02))\n",
    "\n",
    "hr40 = df['HR'] > 40\n",
    "print('{}\\n'.format(hr40))\n",
    "\n",
    "notbos = df['teamID'] != 'BOS'\n",
    "print('{}\\n'.format(notbos))"
   ]
  },
  {
   "cell_type": "markdown",
   "metadata": {},
   "source": [
    "In the code above, we created filter conditions for df based on the columns labeled 'playerID', 'HR', and 'teamID'. The boolean Series outputs have True for the rows that pass the filter, and False for the rows that don't."
   ]
  },
  {
   "cell_type": "markdown",
   "metadata": {},
   "source": [
    "## B. Filters from functions\n",
    "Apart from relation operations, pandas provides various functions for creating specific filter conditions. For columns with string values, we can use str.startswith, str.endswith, and str.contains to filter for specific strings. These functions work the exact same as their namesakes from the Python standard library.\n",
    "\n",
    "The code below shows various examples of string filter conditions. In the final example using str.contains, we prepend the ~ operation, which negates the filter condition. This means our final filter condition checked for player IDs that do not contain 'o'."
   ]
  },
  {
   "cell_type": "code",
   "execution_count": null,
   "metadata": {},
   "outputs": [],
   "source": [
    "df = pd.DataFrame({\n",
    "  'playerID': ['bettsmo01', 'canoro01', 'cruzne02', 'ortizda01', 'cruzne02'],\n",
    "  'yearID': [2016, 2016, 2016, 2016, 2017],\n",
    "  'teamID': ['BOS', 'SEA', 'SEA', 'BOS', 'SEA'],\n",
    "  'HR': [31, 39, 43, 38, 39]})\n",
    "  \n",
    "print('{}\\n'.format(df))\n",
    "\n",
    "str_f1 = df['playerID'].str.startswith('c')\n",
    "print('{}\\n'.format(str_f1))\n",
    "\n",
    "str_f2 = df['teamID'].str.endswith('S')\n",
    "print('{}\\n'.format(str_f2))\n",
    "\n",
    "str_f3 = ~df['playerID'].str.contains('o')\n",
    "print('{}\\n'.format(str_f3))"
   ]
  },
  {
   "cell_type": "markdown",
   "metadata": {},
   "source": [
    "We can also create filter conditions that check for values in a specific set, by using the isin function. The function only takes in one argument, which is a list of values that we want to filter for.\n",
    "\n",
    "The code below demonstrates how to use the isin function for filter conditions."
   ]
  },
  {
   "cell_type": "code",
   "execution_count": null,
   "metadata": {},
   "outputs": [],
   "source": [
    "df = pd.DataFrame({\n",
    "  'playerID': ['bettsmo01', 'canoro01', 'cruzne02', 'ortizda01', 'cruzne02'],\n",
    "  'yearID': [2016, 2016, 2016, 2016, 2017],\n",
    "  'teamID': ['BOS', 'SEA', 'SEA', 'BOS', 'SEA'],\n",
    "  'HR': [31, 39, 43, 38, 39]})\n",
    "  \n",
    "print('{}\\n'.format(df))\n",
    "\n",
    "isin_f1 = df['playerID'].isin(['cruzne02',\n",
    "                               'ortizda01'])\n",
    "print('{}\\n'.format(isin_f1))\n",
    "\n",
    "isin_f2 = df['yearID'].isin([2015, 2017])\n",
    "print('{}\\n'.format(isin_f2))"
   ]
  },
  {
   "cell_type": "markdown",
   "metadata": {},
   "source": [
    "In pandas, when a Series or DataFrame has a missing value at a location, it is represented by NaN. The NaN value in pandas is equivalent to np.nan in NumPy.\n",
    "\n",
    "Similar to Numpy, we cannot use a relation operation to create a filter condition for NaN values. Instead, we use the isna and notna functions."
   ]
  },
  {
   "cell_type": "code",
   "execution_count": null,
   "metadata": {},
   "outputs": [],
   "source": [
    "df = pd.DataFrame({\n",
    "  'playerID': ['bettsmo01', 'canoro01', 'doejo01'],\n",
    "  'yearID': [2016, 2016, 2017],\n",
    "  'teamID': ['BOS', 'SEA', np.nan],\n",
    "  'HR': [31, 39, 99]})\n",
    "  \n",
    "print('{}\\n'.format(df))\n",
    "\n",
    "isna = df['teamID'].isna()\n",
    "print('{}\\n'.format(isna))\n",
    "\n",
    "notna = df['teamID'].notna()\n",
    "print('{}\\n'.format(notna))"
   ]
  },
  {
   "cell_type": "markdown",
   "metadata": {},
   "source": [
    "The isna function returns True in the locations that contain NaN and False in the locations that don't, while the notna function does the opposite."
   ]
  },
  {
   "cell_type": "markdown",
   "metadata": {},
   "source": [
    "## C. Feature filtering\n",
    "It is really easy to filter a DataFrame's rows based on filter conditions. Similar to direct indexing of a DataFrame, we use square brackets. However, the inside of the square brackets will now contain a filter condition.\n",
    "\n",
    "When applying filter conditions within square brackets, we retrieve the rows of the DataFrame that pass the filter condition (i.e. the rows for which the filter condition is True).\n",
    "\n",
    "The code below shows how to filter using square brackets and filter conditions."
   ]
  },
  {
   "cell_type": "code",
   "execution_count": null,
   "metadata": {},
   "outputs": [],
   "source": [
    "df = pd.DataFrame({\n",
    "  'playerID': ['bettsmo01', 'canoro01', 'cruzne02', 'ortizda01', 'bettsmo01'],\n",
    "  'yearID': [2016, 2016, 2016, 2016, 2015],\n",
    "  'teamID': ['BOS', 'SEA', 'SEA', 'BOS', 'BOS'],\n",
    "  'HR': [31, 39, 43, 38, 18]})\n",
    "  \n",
    "print('{}\\n'.format(df))\n",
    "\n",
    "hr40_df = df[df['HR'] > 40]\n",
    "print('{}\\n'.format(hr40_df))\n",
    "\n",
    "not_hr30_df = df[~(df['HR'] > 30)]\n",
    "print('{}\\n'.format(not_hr30_df))\n",
    "\n",
    "str_df = df[df['teamID'].str.startswith('B')]\n",
    "print('{}\\n'.format(str_df))"
   ]
  }
 ],
 "metadata": {
  "kernelspec": {
   "display_name": "Python 3",
   "language": "python",
   "name": "python3"
  },
  "language_info": {
   "codemirror_mode": {
    "name": "ipython",
    "version": 3
   },
   "file_extension": ".py",
   "mimetype": "text/x-python",
   "name": "python",
   "nbconvert_exporter": "python",
   "pygments_lexer": "ipython3",
   "version": "3.7.4"
  }
 },
 "nbformat": 4,
 "nbformat_minor": 2
}
